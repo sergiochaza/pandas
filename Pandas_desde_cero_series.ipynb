{
  "nbformat": 4,
  "nbformat_minor": 0,
  "metadata": {
    "colab": {
      "provenance": [],
      "toc_visible": true,
      "authorship_tag": "ABX9TyPCQ6xlOfjOvM8DZfaVD3cr",
      "include_colab_link": true
    },
    "kernelspec": {
      "name": "python3",
      "display_name": "Python 3"
    },
    "language_info": {
      "name": "python"
    }
  },
  "cells": [
    {
      "cell_type": "markdown",
      "metadata": {
        "id": "view-in-github",
        "colab_type": "text"
      },
      "source": [
        "<a href=\"https://colab.research.google.com/github/sergiochaza/pandas/blob/main/Pandas_desde_cero_series.ipynb\" target=\"_parent\"><img src=\"https://colab.research.google.com/assets/colab-badge.svg\" alt=\"Open In Colab\"/></a>"
      ]
    },
    {
      "cell_type": "markdown",
      "source": [
        "#Contexto:\n",
        "A lo largo de la explicación \"s\" va a ser usado en todos los codigos, porque es la variable donde voy a ir depositando la serie"
      ],
      "metadata": {
        "id": "kggREwC1SaTu"
      }
    },
    {
      "cell_type": "markdown",
      "source": [
        "#Pandas\n",
        "\n",
        "Las principales caracteristicas de esta libreria son:\n",
        "\n",
        "\n",
        "*   Define nuevas estructuras de datos basadas en los arrays de la librería Numpy, pero con nuevas funcionalidades\n",
        "*   Permite leer y escribir fácilmente ficheros en formato CVS,XLSX y SQL\n",
        "*   Permite acceder a los datos mediante índices o nombres para filas y columnas\n",
        "*   Ofrece métodos para reordenar, dividir y combinar conjunto de datos\n",
        "*   Permite trabajar con series temporales\n",
        "*   Realiza todas estas operaciones de manera muy eficiente\n",
        "\n",
        "\n",
        "\n",
        "#Tipo de datos en pandas\n",
        "\n",
        "Pandas dispone de 3 estructuras de datos diferentes\n",
        "\n",
        "*   Series: Estructura de una dimensión\n",
        "*   DataFrame: Estructuras de dos dimensiones (Tablas)\n",
        "*   Panles: Estructura de tres dimensiones (Cubos)\n",
        "\n",
        "Estas estructuras se construyen a partir de arrays de la librería Numpy, añadiendo nuevas funcionalidades.\n",
        "\n",
        "\n",
        "\n",
        "\n",
        "\n",
        "\n",
        "\n"
      ],
      "metadata": {
        "id": "w2wxMRt1ccS3"
      }
    },
    {
      "cell_type": "markdown",
      "source": [
        "#La Clase de Objetos Series\n",
        "\n",
        "Son estructuras similares a los arrays de una dimensión. Son homogéneas, es decir, sus elementos tienen que ser del mismo tipo y su tamaño es inmutable, es decir, no se puede cambiar, aunque si su contenido\n",
        "\n",
        "Dispone de un índice que asocia un nombre a cada elemento de la serie, a través de la cual se accede al elemento.\n",
        "\n",
        "![image.png](data:image/png;base64,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)"
      ],
      "metadata": {
        "id": "awGJtpg2gf8-"
      }
    },
    {
      "cell_type": "markdown",
      "source": [
        "#Creación de una serie a partir de una lista\n",
        "\n",
        "* Series(Data=lista, Index = idices, dytpe=tipo): Devuelve un objeto de Series con los datos de la lista, las filas especificados en la lista indices y el tipo de dato incado en el tipo. Si no se pasa la lista de índices se utilizan como índices los enteros del 0 a n -1, donde n es el tamaño de la serie. sino se pasa el tipo de dato que se infiere"
      ],
      "metadata": {
        "id": "B3fymddKhMZ1"
      }
    },
    {
      "cell_type": "code",
      "source": [
        "import pandas as pd\n"
      ],
      "metadata": {
        "id": "07vQzVK1k-24"
      },
      "execution_count": null,
      "outputs": []
    },
    {
      "cell_type": "code",
      "source": [
        "import pandas as pd\n",
        "s = pd.Series([\"Matematicas\" , \"Historia\" , \"Economia\" , \"Programación\" , \"Ingles\"] , dtype = \"string\" )\n",
        "s"
      ],
      "metadata": {
        "colab": {
          "base_uri": "https://localhost:8080/",
          "height": 241
        },
        "id": "4yQFNOFthLa8",
        "outputId": "2ec22513-8eb1-445e-9b17-311abb9bb14f"
      },
      "execution_count": null,
      "outputs": [
        {
          "output_type": "execute_result",
          "data": {
            "text/plain": [
              "0     Matematicas\n",
              "1        Historia\n",
              "2        Economia\n",
              "3    Programación\n",
              "4          Ingles\n",
              "dtype: string"
            ],
            "text/html": [
              "<div>\n",
              "<style scoped>\n",
              "    .dataframe tbody tr th:only-of-type {\n",
              "        vertical-align: middle;\n",
              "    }\n",
              "\n",
              "    .dataframe tbody tr th {\n",
              "        vertical-align: top;\n",
              "    }\n",
              "\n",
              "    .dataframe thead th {\n",
              "        text-align: right;\n",
              "    }\n",
              "</style>\n",
              "<table border=\"1\" class=\"dataframe\">\n",
              "  <thead>\n",
              "    <tr style=\"text-align: right;\">\n",
              "      <th></th>\n",
              "      <th>0</th>\n",
              "    </tr>\n",
              "  </thead>\n",
              "  <tbody>\n",
              "    <tr>\n",
              "      <th>0</th>\n",
              "      <td>Matematicas</td>\n",
              "    </tr>\n",
              "    <tr>\n",
              "      <th>1</th>\n",
              "      <td>Historia</td>\n",
              "    </tr>\n",
              "    <tr>\n",
              "      <th>2</th>\n",
              "      <td>Economia</td>\n",
              "    </tr>\n",
              "    <tr>\n",
              "      <th>3</th>\n",
              "      <td>Programación</td>\n",
              "    </tr>\n",
              "    <tr>\n",
              "      <th>4</th>\n",
              "      <td>Ingles</td>\n",
              "    </tr>\n",
              "  </tbody>\n",
              "</table>\n",
              "</div><br><label><b>dtype:</b> string</label>"
            ]
          },
          "metadata": {},
          "execution_count": 6
        }
      ]
    },
    {
      "cell_type": "markdown",
      "source": [
        "#Creación de series a partir de un diccionario\n",
        "\n",
        "* Series (Data=Diccionario, index = indices) Devuelve un objeto de tipo series con valores del diccionario y las filas especifícados en la lista indices las claves del diccionario\n",
        "\n"
      ],
      "metadata": {
        "id": "agzkXAxjiiKz"
      }
    },
    {
      "cell_type": "code",
      "source": [
        "import pandas as pd\n",
        "s = pd.Series({\"Matematicas\": 6.0, \"Economia\": 8.0 , \"Programación\": 8.5})\n",
        "print(s)"
      ],
      "metadata": {
        "colab": {
          "base_uri": "https://localhost:8080/"
        },
        "id": "GTWYOPB6jwQD",
        "outputId": "1982dc5c-2020-4783-86ff-e5a83798a13b"
      },
      "execution_count": null,
      "outputs": [
        {
          "output_type": "stream",
          "name": "stdout",
          "text": [
            "Matematicas     6.0\n",
            "Economia        8.0\n",
            "Programación    8.5\n",
            "dtype: float64\n"
          ]
        }
      ]
    },
    {
      "cell_type": "markdown",
      "source": [
        "#Atributos de una serie\n",
        "\n",
        "Existen varias propiedades o métodos para ver las características de una serie\n",
        "\n",
        "*   s.size: Devuelve el número de elementos de la serie s\n",
        "*   s.index: Devuelve una lista con los nombres de las filas del DataFrame s\n",
        "*   s.dtype: Devuelve el tipo de datos de los elementos de la serie s\n",
        "\n"
      ],
      "metadata": {
        "id": "qIhyuLFOkhE8"
      }
    },
    {
      "cell_type": "code",
      "source": [
        "import pandas as pd\n",
        "s = pd.Series({\"Matematicas\": 6.0, \"Economia\": 8.0 , \"Programación\": 8.5})\n",
        "print(f\"Los números de elementos son: {s.size}\")\n",
        "print(f\"Los nombres de las filas son: {s.index}\")\n",
        "print(f\"El tipo de dato es: {s.dtype}\")"
      ],
      "metadata": {
        "colab": {
          "base_uri": "https://localhost:8080/"
        },
        "id": "GApOZEnak9qI",
        "outputId": "1a694d09-2812-4413-f499-9a74c665ecd7"
      },
      "execution_count": null,
      "outputs": [
        {
          "output_type": "stream",
          "name": "stdout",
          "text": [
            "Los números de elementos son: 3\n",
            "Los nombres de las filas son: Index(['Matematicas', 'Economia', 'Programación'], dtype='object')\n",
            "El tipo de dato es: float64\n"
          ]
        }
      ]
    },
    {
      "cell_type": "markdown",
      "source": [
        "#Acceso a los elementos de una serie\n",
        "El acceso a los elemtnos de un objeto del tipo Serie puede ser através de posiciones o através de indices (Nombre de columna)\n",
        "\n",
        "#Accesos por posición\n",
        "Se realiza de forma similar a como se accede a los elementos de un array.\n",
        "s.iloc[0]: Devuelve el elemento que ocupa 0+1 en la serie, respetando la **Indexación basada en cero**\n",
        "Que significa? Significa que el primer elemento de la lista tiene indice 0, el segundo indice 1 y así sucesivamente (zero-based indexing)\n",
        "\n",
        "Posición real        Índice en Python\n",
        "1° elemento\t          0\n",
        "2° elemento\t          1\n",
        "3° elemento\t          2\n",
        "\n",
        "Porque se usa la indexación basada en 0? Porque python hereda esta logica de C que tambien se usa 0 como primer indice. Es mas eficiente computacionalmente y facilita algunos cálculos internos\n",
        "\n",
        "\n",
        "#Acceso por indice\n",
        "\n",
        "*   s[nombre]: Devuelve el elemento con el nombre en el índice\n",
        "*   s[nombres]: Devuelve otra serie con los elementos correspondientes a los nombres indicadas en la lista nombres en el indice\n",
        "\n"
      ],
      "metadata": {
        "id": "2Raih357l2FR"
      }
    },
    {
      "cell_type": "code",
      "source": [
        "import pandas as pd\n",
        "s = pd.Series({\"Matematicas\": 6.0, \"Economia\": 8.0 , \"Programación\": 8.5})\n",
        "print(f\"Acceso por posicion: {s.iloc[0]}\")\n",
        "print(f\"Acceso por indice: {s['Matematicas']}\")"
      ],
      "metadata": {
        "colab": {
          "base_uri": "https://localhost:8080/"
        },
        "collapsed": true,
        "id": "dx2Ip_Ymq38I",
        "outputId": "743abf56-48dd-4ba1-bf2c-9242db985763"
      },
      "execution_count": null,
      "outputs": [
        {
          "output_type": "stream",
          "name": "stdout",
          "text": [
            "Acceso por posicion: 6.0\n",
            "Acceso por indice: 6.0\n"
          ]
        }
      ]
    },
    {
      "cell_type": "markdown",
      "source": [
        "#Resumen descriptivo de una serie\n",
        "Las siguientes funciones permiten resumir varios aspectos de una serie:\n",
        "* s.count():\n",
        "      Devuelve el número de elementos que no son nulos ni NaN en la serie\n",
        "\n",
        "* s.sum():\n",
        "      Devuelve la suma de los datos de la serie s cuando los datos son de un tipo numérico, o la concanetación de ellos cuando son del tipo cadena str\n",
        "* s.cumsum():\n",
        "      Devuelve una serie con la suma acumulada de los datos de la serie s, cuando los datos son de tipo numerico\n",
        "* s.value_counts()\n",
        "      Devuelve una serie con la fecuencia(Número de repeticiones) de cada valor de la serie s\n",
        "* s.min():\n",
        "      Devuelve el menor de los datos de la serie s\n",
        "* s.max():\n",
        "      Devuelve el mayor de los datos de la serie s\n",
        "* s.mean():\n",
        "      Devuelve la media de los datos de la serie s cuando los datos son de tipo númerico\n",
        "* s.var():\n",
        "      Devuelve la varianza de los datos de la serie s cuando los datos son de tipo númerico\n",
        "* s.std():\n",
        "      Devuelve la desviación típica de los datos de la serie s cuando los datos son de un tipo numérico\n",
        "*s.decribe():\n",
        "      Devuelve una serie con un resumen descriptivo que incluye en número de datos, su suma, el minimos, el máximo, la media, la desviación tipica y los cuartiles"
      ],
      "metadata": {
        "id": "ob7h-WfrwGWV"
      }
    },
    {
      "cell_type": "code",
      "source": [
        "import pandas as pd\n",
        "s = pd.Series([1,1,1,1,2,2,2,3,3,4])\n",
        "print(f\"Número de elementos: {s.count()}\")\n",
        "print(f\"Suma de los datos: {s.sum()}\")\n",
        "print(f\"Suma acumulada: {s.cumsum()}\")\n",
        "print(f\"Frecuencia Absolutas: {s.value_counts()}\")\n",
        "print(f\"Mínimo: {s.min()}\")\n",
        "print(f\"Máximo: {s.max()}\")\n",
        "print(f\"Media: {s.mean()}\")\n",
        "print(f\"Varianza: {s.var()}\")\n",
        "print(f\"Desviación típica: {s.std()}\")\n",
        "print(f\"Resumen descriptivo: {s.describe()}\")"
      ],
      "metadata": {
        "colab": {
          "base_uri": "https://localhost:8080/"
        },
        "id": "kIJIvltAooxD",
        "outputId": "3bc5fd26-50f6-4c3b-ba5f-bca26ee24e77"
      },
      "execution_count": null,
      "outputs": [
        {
          "output_type": "stream",
          "name": "stdout",
          "text": [
            "Número de elementos: 10\n",
            "Suma de los datos: 20\n",
            "Suma acumulada: 0     1\n",
            "1     2\n",
            "2     3\n",
            "3     4\n",
            "4     6\n",
            "5     8\n",
            "6    10\n",
            "7    13\n",
            "8    16\n",
            "9    20\n",
            "dtype: int64\n",
            "Frecuencia Absolutas: 1    4\n",
            "2    3\n",
            "3    2\n",
            "4    1\n",
            "Name: count, dtype: int64\n",
            "Mínimo: 1\n",
            "Máximo: 4\n",
            "Media: 2.0\n",
            "Varianza: 1.1111111111111112\n",
            "Desviación típica: 1.0540925533894598\n",
            "Resumen descriptivo: count    10.000000\n",
            "mean      2.000000\n",
            "std       1.054093\n",
            "min       1.000000\n",
            "25%       1.000000\n",
            "50%       2.000000\n",
            "75%       2.750000\n",
            "max       4.000000\n",
            "dtype: float64\n"
          ]
        }
      ]
    },
    {
      "cell_type": "markdown",
      "source": [
        "#Aplicar operaciones a una serie\n",
        "\n",
        "Los operadores binarios (+,*,/,etc)Pueden utilizarse con una serie, y devuelven otra serie con el resultado de aplicar la operación a cada elemento de la serie"
      ],
      "metadata": {
        "id": "hMWjRyxh2hTT"
      }
    },
    {
      "cell_type": "code",
      "source": [
        "import pandas as pd\n",
        "s = pd.Series([1,2,3,4,])\n",
        "print(s + 2)\n",
        "print(s * 2)\n",
        "print(s / 2)\n",
        "print(s % 2)\n"
      ],
      "metadata": {
        "colab": {
          "base_uri": "https://localhost:8080/"
        },
        "id": "hGYM6R2zxpJS",
        "outputId": "54b15b05-e42d-48e5-f291-ec437582e3bc"
      },
      "execution_count": null,
      "outputs": [
        {
          "output_type": "stream",
          "name": "stdout",
          "text": [
            "0    3\n",
            "1    4\n",
            "2    5\n",
            "3    6\n",
            "dtype: int64\n",
            "0    2\n",
            "1    4\n",
            "2    6\n",
            "3    8\n",
            "dtype: int64\n",
            "0    0.5\n",
            "1    1.0\n",
            "2    1.5\n",
            "3    2.0\n",
            "dtype: float64\n",
            "0    1\n",
            "1    0\n",
            "2    1\n",
            "3    0\n",
            "dtype: int64\n"
          ]
        }
      ]
    },
    {
      "cell_type": "markdown",
      "source": [
        "#Aplicar funciones a una serie\n",
        "\n",
        "Tambien es posible aplicar una función a cada elemento de la serie mediante el siguiente método:\n",
        "\n",
        "s.apply(funcion): Devuelve una serie con el resultado de aplicar la función a cada uno de los elementos de la serie s\n",
        "\n",
        "#Funciones de Python\n",
        "* s.apply(str)\n",
        "      Convierte cada número a string\n",
        "* s.apply(abs)\n",
        "      Trae el valor absoluto\n",
        "* s.apply(round)\n",
        "      Redondea si es que hay decimales\n",
        "\n",
        "#Funciones Matematicas (Usando math o numpy)\n",
        "\n",
        "* s.apply(np.sqtr)\n",
        "      Raiz cuadrada\n",
        "* s.apply(np.log)\n",
        "      Logaritmo\n",
        "* s.apply(np.sin)\n",
        "      Seno\n",
        "* s.apply(np.cos)\n",
        "      coseno\n",
        "\n",
        "#Función Lambda(Funcione rapidas)\n",
        "\n",
        "* s.apply(lambda x: abs(x) + 10)\n",
        "      Valor absoluto y suma 10  \n",
        "\n",
        "#Funciones personalizadas\n",
        "\n",
        "* def clasificar_nota(nota):\n",
        "      if nota >=6:\n",
        "        return \"Aparobado\"\n",
        "      else:\n",
        "        return: \"Desaprobado\"\n",
        "\n",
        "s = pd.series([5,7,8,3])\n",
        "\n",
        "s.apply(clasificar_nota)"
      ],
      "metadata": {
        "id": "fcV4hpaO3t31"
      }
    },
    {
      "cell_type": "code",
      "source": [
        "import pandas as pd\n",
        "import numpy as np\n",
        "s = pd.Series([1,2,3,4])\n",
        "print(s.apply(str))\n",
        "print(\"Funciones de Python\")"
      ],
      "metadata": {
        "colab": {
          "base_uri": "https://localhost:8080/"
        },
        "id": "JKcDCXeX28RZ",
        "outputId": "1fc02a50-6020-464c-9111-cb6c411e6790"
      },
      "execution_count": null,
      "outputs": [
        {
          "output_type": "stream",
          "name": "stdout",
          "text": [
            "0    1\n",
            "1    2\n",
            "2    3\n",
            "3    4\n",
            "dtype: object\n",
            "Funciones de Python\n"
          ]
        }
      ]
    },
    {
      "cell_type": "code",
      "source": [
        "import pandas as pd\n",
        "import numpy as np\n",
        "s = pd.Series([1,2,3,4])\n",
        "print(\"Funciones Python\")\n",
        "print(f\"Funcion valor absoluto: {s.apply(abs)}\")\n",
        "print(f\"Función redondear decimales: {s.apply(round)}\")\n",
        "print(\"Funciones Matematicas\")\n",
        "print(f\"Función raiz cuadrada: {s.apply(np.sqrt)}\")\n",
        "print(f\"Funció de Logaritmo: {s.apply(np.log)}\")\n",
        "#print(f\"Función seno: {s.apply(np)}\")\n",
        "print(f\"Función coseno: {s.apply(np.cos)}\")\n",
        "print(\"Funciones Lambda\")\n",
        "print(f\"Función Lambda: {s.apply(lambda x: abs(x) + 10)}\")"
      ],
      "metadata": {
        "colab": {
          "base_uri": "https://localhost:8080/"
        },
        "id": "LEjurxFBKpNz",
        "outputId": "f1d6414d-e173-4257-e853-14d4cc69af0f"
      },
      "execution_count": null,
      "outputs": [
        {
          "output_type": "stream",
          "name": "stdout",
          "text": [
            "Funciones Python\n",
            "Funcion valor absoluto: 0    1\n",
            "1    2\n",
            "2    3\n",
            "3    4\n",
            "dtype: int64\n",
            "Función redondear decimales: 0    1\n",
            "1    2\n",
            "2    3\n",
            "3    4\n",
            "dtype: int64\n",
            "Funciones Matematicas\n",
            "Función raiz cuadrada: 0    1.000000\n",
            "1    1.414214\n",
            "2    1.732051\n",
            "3    2.000000\n",
            "dtype: float64\n",
            "Funció de Logaritmo: 0    0.000000\n",
            "1    0.693147\n",
            "2    1.098612\n",
            "3    1.386294\n",
            "dtype: float64\n",
            "Función coseno: 0    0.540302\n",
            "1   -0.416147\n",
            "2   -0.989992\n",
            "3   -0.653644\n",
            "dtype: float64\n",
            "Funciones Lambda\n",
            "Función Lambda: 0    11\n",
            "1    12\n",
            "2    13\n",
            "3    14\n",
            "dtype: int64\n"
          ]
        }
      ]
    },
    {
      "cell_type": "markdown",
      "source": [
        "#Filtrar una serie\n",
        "\n",
        "Para filtrar una serie y quedarse con los valores que cumplen una determinada condición se utiliza el siguiente método:\n",
        "\n",
        "* s[condicion]:\n",
        "        Devuelve una serie con los elementos de la serie s que se corresponden con el valore True de la lista booleana condicion. condicion debe ser una lista de valores boleadon de la misma longitud que la serie"
      ],
      "metadata": {
        "id": "yBsloDVWO2Xj"
      }
    },
    {
      "cell_type": "code",
      "source": [
        "import pandas as pd\n",
        "s = pd.Series({\"Matematicas\" : 1.0 , \"Fisica\": 6.0 , \"Economia\": 8.0 })\n",
        "print(s[s > 5])"
      ],
      "metadata": {
        "colab": {
          "base_uri": "https://localhost:8080/"
        },
        "id": "4Np8f2DtO3Jv",
        "outputId": "4ee76b15-7c44-4326-b63b-15eb43e01608"
      },
      "execution_count": null,
      "outputs": [
        {
          "output_type": "stream",
          "name": "stdout",
          "text": [
            "Fisica      6.0\n",
            "Economia    8.0\n",
            "dtype: float64\n"
          ]
        }
      ]
    },
    {
      "cell_type": "markdown",
      "source": [
        "#Ordenar una Serie\n",
        "\n",
        "Para ordenar una serie se utilizan los siguientes métodos:\n",
        "\n",
        "* s.sort_values(ascending=booleano):\n",
        "      Devuelve la serie que resulta de ordenar los valores de la serie s. Si el argumento del parámetro ascending es True el orden es creciente y si es false decreciente\n",
        "\n",
        "* s.sort_index(ascending=booleano):\n",
        "      Devuelve la serie que resulta ordenar el indice de la serie s. Si el argumento del parámetro ascending es True el orden es creciente y si es False decreciente"
      ],
      "metadata": {
        "id": "XH10h1O8QRvq"
      }
    },
    {
      "cell_type": "code",
      "source": [
        "import pandas as pd\n",
        "s = pd.Series({\"Matematicas\" : 9.0 , \"Fisica\": 1.0 , \"Economia\": 7.0 })\n",
        "print(\"Ordenar por valor\")\n",
        "print(s.sort_values())\n",
        "z = pd.Series({\"Matematicas\" : 9.0 , \"Fisica\": 1.0 , \"Economia\": 7.0 })\n",
        "print(z.sort_index())\n"
      ],
      "metadata": {
        "colab": {
          "base_uri": "https://localhost:8080/"
        },
        "id": "w9QzNt0VQP2y",
        "outputId": "941d4e96-d37d-441b-ac69-5d900a0dd6e3"
      },
      "execution_count": null,
      "outputs": [
        {
          "output_type": "stream",
          "name": "stdout",
          "text": [
            "Ordenar por valor\n",
            "Fisica         1.0\n",
            "Economia       7.0\n",
            "Matematicas    9.0\n",
            "dtype: float64\n",
            "Economia       7.0\n",
            "Fisica         1.0\n",
            "Matematicas    9.0\n",
            "dtype: float64\n"
          ]
        }
      ]
    },
    {
      "cell_type": "markdown",
      "source": [
        "#Eliminar Datos Desconocidos en una serie\n",
        "Los datos desconocidos representan en Pandas por NaN y los nulos por None. Tanto unos como otros suelen ser un problema a la hora de realizar algunos análisis de datos, por lo que es habitual eliminarlos. Para eliminarlos de una serie se utiliza el siguiente método.\n",
        "\n",
        "s.dronpa(): Elimina los datos desconocidos o nulos de la serie s\n",
        "\n"
      ],
      "metadata": {
        "id": "mD9exUCFRxs0"
      }
    },
    {
      "cell_type": "code",
      "source": [
        "import pandas as pd\n",
        "import numpy as np\n",
        "s = pd.Series([\"a\" , \"b\" , None, \"c\", np.nan, \"d\"])\n",
        "s"
      ],
      "metadata": {
        "colab": {
          "base_uri": "https://localhost:8080/",
          "height": 272
        },
        "id": "cbvZHSI9Rxc1",
        "outputId": "b04e21af-eac4-4c69-9a3a-c84a451afed4"
      },
      "execution_count": null,
      "outputs": [
        {
          "output_type": "execute_result",
          "data": {
            "text/plain": [
              "0       a\n",
              "1       b\n",
              "2    None\n",
              "3       c\n",
              "4     NaN\n",
              "5       d\n",
              "dtype: object"
            ],
            "text/html": [
              "<div>\n",
              "<style scoped>\n",
              "    .dataframe tbody tr th:only-of-type {\n",
              "        vertical-align: middle;\n",
              "    }\n",
              "\n",
              "    .dataframe tbody tr th {\n",
              "        vertical-align: top;\n",
              "    }\n",
              "\n",
              "    .dataframe thead th {\n",
              "        text-align: right;\n",
              "    }\n",
              "</style>\n",
              "<table border=\"1\" class=\"dataframe\">\n",
              "  <thead>\n",
              "    <tr style=\"text-align: right;\">\n",
              "      <th></th>\n",
              "      <th>0</th>\n",
              "    </tr>\n",
              "  </thead>\n",
              "  <tbody>\n",
              "    <tr>\n",
              "      <th>0</th>\n",
              "      <td>a</td>\n",
              "    </tr>\n",
              "    <tr>\n",
              "      <th>1</th>\n",
              "      <td>b</td>\n",
              "    </tr>\n",
              "    <tr>\n",
              "      <th>2</th>\n",
              "      <td>None</td>\n",
              "    </tr>\n",
              "    <tr>\n",
              "      <th>3</th>\n",
              "      <td>c</td>\n",
              "    </tr>\n",
              "    <tr>\n",
              "      <th>4</th>\n",
              "      <td>NaN</td>\n",
              "    </tr>\n",
              "    <tr>\n",
              "      <th>5</th>\n",
              "      <td>d</td>\n",
              "    </tr>\n",
              "  </tbody>\n",
              "</table>\n",
              "</div><br><label><b>dtype:</b> object</label>"
            ]
          },
          "metadata": {},
          "execution_count": 16
        }
      ]
    },
    {
      "cell_type": "code",
      "source": [
        "s.dropna()"
      ],
      "metadata": {
        "colab": {
          "base_uri": "https://localhost:8080/",
          "height": 209
        },
        "id": "6Ih4tb0GTK6R",
        "outputId": "a6fc6129-cfb4-4464-dec4-768a73c6bf92"
      },
      "execution_count": null,
      "outputs": [
        {
          "output_type": "execute_result",
          "data": {
            "text/plain": [
              "0    a\n",
              "1    b\n",
              "3    c\n",
              "5    d\n",
              "dtype: object"
            ],
            "text/html": [
              "<div>\n",
              "<style scoped>\n",
              "    .dataframe tbody tr th:only-of-type {\n",
              "        vertical-align: middle;\n",
              "    }\n",
              "\n",
              "    .dataframe tbody tr th {\n",
              "        vertical-align: top;\n",
              "    }\n",
              "\n",
              "    .dataframe thead th {\n",
              "        text-align: right;\n",
              "    }\n",
              "</style>\n",
              "<table border=\"1\" class=\"dataframe\">\n",
              "  <thead>\n",
              "    <tr style=\"text-align: right;\">\n",
              "      <th></th>\n",
              "      <th>0</th>\n",
              "    </tr>\n",
              "  </thead>\n",
              "  <tbody>\n",
              "    <tr>\n",
              "      <th>0</th>\n",
              "      <td>a</td>\n",
              "    </tr>\n",
              "    <tr>\n",
              "      <th>1</th>\n",
              "      <td>b</td>\n",
              "    </tr>\n",
              "    <tr>\n",
              "      <th>3</th>\n",
              "      <td>c</td>\n",
              "    </tr>\n",
              "    <tr>\n",
              "      <th>5</th>\n",
              "      <td>d</td>\n",
              "    </tr>\n",
              "  </tbody>\n",
              "</table>\n",
              "</div><br><label><b>dtype:</b> object</label>"
            ]
          },
          "metadata": {},
          "execution_count": 18
        }
      ]
    },
    {
      "cell_type": "markdown",
      "source": [
        "#Practicas Series"
      ],
      "metadata": {
        "id": "0VRAB6rITVdZ"
      }
    },
    {
      "cell_type": "code",
      "source": [
        "#Practica 1:\n",
        "#Craea una serie con los siguientes datos: \"Lunes\", \"Martes\", \"Miercoles\" , \"Jueves\" , \"Viernes\"\n",
        "\n",
        "import pandas as pd\n",
        "s = pd.Series([\"Lunes\" ,\"Martes\" , \"Miercoles\", \"Jueves\", \"Viernes\"])\n",
        "s"
      ],
      "metadata": {
        "colab": {
          "base_uri": "https://localhost:8080/",
          "height": 241
        },
        "collapsed": true,
        "id": "i0REBbV2TufC",
        "outputId": "b2257187-ff91-406f-b3f0-49851eb9e71f"
      },
      "execution_count": null,
      "outputs": [
        {
          "output_type": "execute_result",
          "data": {
            "text/plain": [
              "0        Lunes\n",
              "1       Martes\n",
              "2    Miercoles\n",
              "3       Jueves\n",
              "4      Viernes\n",
              "dtype: object"
            ],
            "text/html": [
              "<div>\n",
              "<style scoped>\n",
              "    .dataframe tbody tr th:only-of-type {\n",
              "        vertical-align: middle;\n",
              "    }\n",
              "\n",
              "    .dataframe tbody tr th {\n",
              "        vertical-align: top;\n",
              "    }\n",
              "\n",
              "    .dataframe thead th {\n",
              "        text-align: right;\n",
              "    }\n",
              "</style>\n",
              "<table border=\"1\" class=\"dataframe\">\n",
              "  <thead>\n",
              "    <tr style=\"text-align: right;\">\n",
              "      <th></th>\n",
              "      <th>0</th>\n",
              "    </tr>\n",
              "  </thead>\n",
              "  <tbody>\n",
              "    <tr>\n",
              "      <th>0</th>\n",
              "      <td>Lunes</td>\n",
              "    </tr>\n",
              "    <tr>\n",
              "      <th>1</th>\n",
              "      <td>Martes</td>\n",
              "    </tr>\n",
              "    <tr>\n",
              "      <th>2</th>\n",
              "      <td>Miercoles</td>\n",
              "    </tr>\n",
              "    <tr>\n",
              "      <th>3</th>\n",
              "      <td>Jueves</td>\n",
              "    </tr>\n",
              "    <tr>\n",
              "      <th>4</th>\n",
              "      <td>Viernes</td>\n",
              "    </tr>\n",
              "  </tbody>\n",
              "</table>\n",
              "</div><br><label><b>dtype:</b> object</label>"
            ]
          },
          "metadata": {},
          "execution_count": 19
        }
      ]
    },
    {
      "cell_type": "code",
      "source": [
        "#Practicas 2:\n",
        "#Crea una serie con los nombre y edad de tus amigos:\n",
        "#Accede a la edad de \"Samir\"\n",
        "#Mostrar cuantos años tiene el primero por posicion\n",
        "import pandas as pd\n",
        "s = pd.Series({\"Federico\": 24 , \"Samir\": 23 , \"Jorge\": 31})\n",
        "\n",
        "print(f\"La Edad de samir es: {s['Samir']}\")\n",
        "print(f\"La edad del primero por posicion es: {s.iloc[0]}\")"
      ],
      "metadata": {
        "colab": {
          "base_uri": "https://localhost:8080/"
        },
        "collapsed": true,
        "id": "pvQ3SY6sUMqC",
        "outputId": "4aa44982-e5f7-4e8e-d44a-59f16317b953"
      },
      "execution_count": null,
      "outputs": [
        {
          "output_type": "stream",
          "name": "stdout",
          "text": [
            "La Edad de samir es: 23\n",
            "La edad del primero por posicion es: 24\n"
          ]
        }
      ]
    },
    {
      "cell_type": "code",
      "source": [
        "#Acceso y Modificación\n",
        "\"\"\"\n",
        "1- Crear una serie de temperaturas\n",
        "2-Accede a la temperatura del miércoles usando el nombre del índice\n",
        "3-Accede a la temperatura del jueves usando iloc\n",
        "4-Cambia el valor del lunes a 20.0\n",
        "\"\"\"\n",
        "import pandas as pd\n",
        "lista_day = [\"Lunes\", \"Martes\", \"Miercoles\" , \"Jueves\" , \"Viernes\"]\n",
        "lista_temp = [22.5, 23.0, 24.3, 25.0, 24.7]\n",
        "s = pd.Series(lista_temp, index = lista_day)\n",
        "s[\"Lunes\"] = 20.0\n",
        "print(s[\"Miercoles\"])\n",
        "print(s.iloc[3])\n",
        "s"
      ],
      "metadata": {
        "colab": {
          "base_uri": "https://localhost:8080/",
          "height": 277
        },
        "id": "GOKrZ1-0UjmI",
        "outputId": "69acc876-39c3-4b10-ece6-0459e742eab6"
      },
      "execution_count": null,
      "outputs": [
        {
          "output_type": "stream",
          "name": "stdout",
          "text": [
            "24.3\n",
            "25.0\n"
          ]
        },
        {
          "output_type": "execute_result",
          "data": {
            "text/plain": [
              "Lunes        20.0\n",
              "Martes       23.0\n",
              "Miercoles    24.3\n",
              "Jueves       25.0\n",
              "Viernes      24.7\n",
              "dtype: float64"
            ],
            "text/html": [
              "<div>\n",
              "<style scoped>\n",
              "    .dataframe tbody tr th:only-of-type {\n",
              "        vertical-align: middle;\n",
              "    }\n",
              "\n",
              "    .dataframe tbody tr th {\n",
              "        vertical-align: top;\n",
              "    }\n",
              "\n",
              "    .dataframe thead th {\n",
              "        text-align: right;\n",
              "    }\n",
              "</style>\n",
              "<table border=\"1\" class=\"dataframe\">\n",
              "  <thead>\n",
              "    <tr style=\"text-align: right;\">\n",
              "      <th></th>\n",
              "      <th>0</th>\n",
              "    </tr>\n",
              "  </thead>\n",
              "  <tbody>\n",
              "    <tr>\n",
              "      <th>Lunes</th>\n",
              "      <td>20.0</td>\n",
              "    </tr>\n",
              "    <tr>\n",
              "      <th>Martes</th>\n",
              "      <td>23.0</td>\n",
              "    </tr>\n",
              "    <tr>\n",
              "      <th>Miercoles</th>\n",
              "      <td>24.3</td>\n",
              "    </tr>\n",
              "    <tr>\n",
              "      <th>Jueves</th>\n",
              "      <td>25.0</td>\n",
              "    </tr>\n",
              "    <tr>\n",
              "      <th>Viernes</th>\n",
              "      <td>24.7</td>\n",
              "    </tr>\n",
              "  </tbody>\n",
              "</table>\n",
              "</div><br><label><b>dtype:</b> float64</label>"
            ]
          },
          "metadata": {},
          "execution_count": 40
        }
      ]
    },
    {
      "cell_type": "code",
      "source": [
        "#Operaciones y Funciones\n",
        "\"\"\"\n",
        "1-Crea una Serie con los siguientes valores:\n",
        "[3, 5, 8, -2, 0]\n",
        "2-Aplica abs para obtener los valores absolutos\n",
        "3-Elevar al cuadrado y sumar +1\n",
        "4- Mostrar la suma acumulativa\n",
        "5- Calcular la media, la varianza y la desviación estándar\n",
        "\"\"\"\n",
        "import pandas as pd\n",
        "import numpy as np\n",
        "s = pd.Series([3, 5, 8, -2, 0])\n",
        "print(\"El Valor Absoluto es\")\n",
        "print(s.apply(abs))\n",
        "print(\"Elevar al cuadrado y sumar +1\")\n",
        "print(s.apply(lambda x: x**2 + 1))\n",
        "print(\"Mostrar la suma acumulativa\")\n",
        "print(s.cumsum())\n",
        "print(\"Mostar la media, la varianza y la desviación estandar\")\n",
        "print(\"Media\")\n",
        "print(s.mean())\n",
        "print(\"Varianza\")\n",
        "print(s.var())\n",
        "print(\"Desviación Estandar\")\n",
        "print(s.std())\n"
      ],
      "metadata": {
        "colab": {
          "base_uri": "https://localhost:8080/"
        },
        "collapsed": true,
        "id": "m1n1MJXkbBxy",
        "outputId": "e8eb828f-b52e-479f-c036-cc04e9229b7d"
      },
      "execution_count": null,
      "outputs": [
        {
          "output_type": "stream",
          "name": "stdout",
          "text": [
            "El Valor Absoluto es\n",
            "0    3\n",
            "1    5\n",
            "2    8\n",
            "3    2\n",
            "4    0\n",
            "dtype: int64\n",
            "Elevar al cuadrado y sumar +1\n",
            "0    10\n",
            "1    26\n",
            "2    65\n",
            "3     5\n",
            "4     1\n",
            "dtype: int64\n",
            "Mostrar la suma acumulativa\n",
            "0     3\n",
            "1     8\n",
            "2    16\n",
            "3    14\n",
            "4    14\n",
            "dtype: int64\n",
            "Mostar la media, la varianza y la desviación estandar\n",
            "Media\n",
            "2.8\n",
            "Varianza\n",
            "15.7\n",
            "Desviación Estandar\n",
            "3.96232255123179\n"
          ]
        }
      ]
    },
    {
      "cell_type": "code",
      "source": [
        "#Analisis de datos simples\n",
        "\"\"\"\n",
        "1-Encuesta de gustos de helado\n",
        "2-Convirtilo en una serie\n",
        "3-Usa value_counts() para contar cuátas personas votan cada sabor\n",
        "4-Mostrá cuál fue el sabor mas votado\n",
        "\"\"\"\n",
        "import pandas as pd\n",
        "s = pd.Series([\"chocolate\", \"vainilla\", \"chocolate\", \"frutilla\", \"vainilla\", \"chocolate\"])\n",
        "s.value_counts()\n",
        "print(f\"El sabor mas votado es: {s.value_counts().index[0]}\")"
      ],
      "metadata": {
        "colab": {
          "base_uri": "https://localhost:8080/"
        },
        "id": "NFVmIeIydgG4",
        "outputId": "4e0cdf3f-31d1-40ea-f658-788811c649cf"
      },
      "execution_count": null,
      "outputs": [
        {
          "output_type": "stream",
          "name": "stdout",
          "text": [
            "El sabor mas votado es: chocolate\n"
          ]
        }
      ]
    }
  ]
}