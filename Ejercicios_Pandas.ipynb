{
  "nbformat": 4,
  "nbformat_minor": 0,
  "metadata": {
    "colab": {
      "provenance": [],
      "authorship_tag": "ABX9TyNalQVJbVVr9Fd6xMORxvdR",
      "include_colab_link": true
    },
    "kernelspec": {
      "name": "python3",
      "display_name": "Python 3"
    },
    "language_info": {
      "name": "python"
    }
  },
  "cells": [
    {
      "cell_type": "markdown",
      "metadata": {
        "id": "view-in-github",
        "colab_type": "text"
      },
      "source": [
        "<a href=\"https://colab.research.google.com/github/sergiochaza/pandas/blob/main/Ejercicios_Pandas.ipynb\" target=\"_parent\"><img src=\"https://colab.research.google.com/assets/colab-badge.svg\" alt=\"Open In Colab\"/></a>"
      ]
    },
    {
      "cell_type": "markdown",
      "source": [
        "Escribir un programa que pregunte al usuario por las ventas de un rango de años y muestre por pantalla una serie con los datos de las ventas indexada por los años, antes y después de aplicarles un descuento del 10%."
      ],
      "metadata": {
        "id": "RK0kykZ1C0FE"
      }
    },
    {
      "cell_type": "code",
      "execution_count": 3,
      "metadata": {
        "colab": {
          "base_uri": "https://localhost:8080/"
        },
        "id": "V5xiU7JgA_qF",
        "outputId": "a5298518-2b30-4910-a107-3e226b4eed06"
      },
      "outputs": [
        {
          "output_type": "stream",
          "name": "stdout",
          "text": [
            "Introduce el año inicial: 2010\n",
            "Introduce el año final: 2025\n",
            "Introduce las ventas por año 2010: 1000000\n",
            "Introduce las ventas por año 2011: 2000000\n",
            "Introduce las ventas por año 2012: 3000000\n",
            "Introduce las ventas por año 2013: 4\n",
            "Introduce las ventas por año 2014: 5000000\n",
            "Introduce las ventas por año 2015: 6000000\n",
            "Introduce las ventas por año 2016: 70000000\n",
            "Introduce las ventas por año 2017: 8000000000\n",
            "Introduce las ventas por año 2018: 661616163516\n",
            "Introduce las ventas por año 2019: 14654161651651\n",
            "Introduce las ventas por año 2020: 151351351351515\n",
            "Introduce las ventas por año 2021: 13651651351351351\n",
            "Introduce las ventas por año 2022: 351351351351351351352\n",
            "Introduce las ventas por año 2023: 13513438541321354134136\n",
            "Introduce las ventas por año 2024: 3136546416854684165865416\n",
            "Introduce las ventas por año 2025: 1365131314651313131313138131\n",
            "2010    1.000000e+06\n",
            "2011    2.000000e+06\n",
            "2012    3.000000e+06\n",
            "2013    4.000000e+00\n",
            "2014    5.000000e+06\n",
            "2015    6.000000e+06\n",
            "2016    7.000000e+07\n",
            "2017    8.000000e+09\n",
            "2018    6.616162e+11\n",
            "2019    1.465416e+13\n",
            "2020    1.513514e+14\n",
            "2021    1.365165e+16\n",
            "2022    3.513514e+20\n",
            "2023    1.351344e+22\n",
            "2024    3.136546e+24\n",
            "2025    1.365131e+27\n",
            "dtype: float64\n"
          ]
        }
      ],
      "source": [
        "import pandas as pd\n",
        "inicio = int(input(\"Introduce el año inicial: \"))\n",
        "fin = int(input(\"Introduce el año final: \"))\n",
        "ventas = {}\n",
        "for  i in range(inicio, fin+1):\n",
        "    ventas[i] = float(input(\"Introduce las ventas por año \" + str(i) + \": \"))\n",
        "ventas = pd.Series(ventas)\n",
        "print(ventas)\n"
      ]
    },
    {
      "cell_type": "markdown",
      "source": [
        "Escribir una función que reciba un diccionario con las notas de los alumno de un curso y devuelva una serie con la nota mínima, la máxima, media y la desviación típica."
      ],
      "metadata": {
        "id": "cXMH2gsPD9JF"
      }
    },
    {
      "cell_type": "code",
      "source": [
        "import pandas as pd\n",
        "def estadistica(notas):\n",
        "    notas = pd.Series(notas)\n",
        "    estadisticos = pd.Series([notas.min(), notas.max(), notas.mean(), notas.std()], index=[\"Min\", \"Max\", \"Media\", \"Desviación tipica\"])\n",
        "    return estadisticos\n",
        "notas = {\"Juan\":9, \"María\":6.5, \"Pedro\":4, \"Carmen\": 8.5, \"Luis\": 5}\n",
        "print(estadistica(notas))"
      ],
      "metadata": {
        "colab": {
          "base_uri": "https://localhost:8080/"
        },
        "id": "DNy85WZMDyLx",
        "outputId": "9d67ea81-0965-4e2b-8938-9c6d3ada06af"
      },
      "execution_count": 8,
      "outputs": [
        {
          "output_type": "stream",
          "name": "stdout",
          "text": [
            "Min                  4.000000\n",
            "Max                  9.000000\n",
            "Media                6.600000\n",
            "Desviación tipica    2.162175\n",
            "dtype: float64\n"
          ]
        }
      ]
    },
    {
      "cell_type": "code",
      "source": [
        "import pandas as pd\n",
        "def estadistica(notas):\n",
        "  notas = pd.Series(notas)\n",
        "  estadisticos = pd.Series([notas.min(), notas.max(), notas.mean(), notas.std()], index=[\"Min\", \"Max\", \"Media\", \"Desviación tipica\"])\n",
        "  return notas.describe()\n",
        "notas = {\"Juan\":9, \"María\":6.5, \"Pedro\":4, \"Carmen\": 8.5, \"Luis\": 5}\n",
        "print(estadistica(notas))"
      ],
      "metadata": {
        "colab": {
          "base_uri": "https://localhost:8080/"
        },
        "id": "1OZ5IXuDE9YF",
        "outputId": "26ad9f39-5024-4df4-cd8c-9eb12a026d62"
      },
      "execution_count": 9,
      "outputs": [
        {
          "output_type": "stream",
          "name": "stdout",
          "text": [
            "count    5.000000\n",
            "mean     6.600000\n",
            "std      2.162175\n",
            "min      4.000000\n",
            "25%      5.000000\n",
            "50%      6.500000\n",
            "75%      8.500000\n",
            "max      9.000000\n",
            "dtype: float64\n"
          ]
        }
      ]
    },
    {
      "cell_type": "markdown",
      "source": [
        "Escribir una función que reciba un diccionario con las notas de los alumnos de un curso y devuelva una serie con las notas de los alumnos aprobados ordenadas de mayor a menor."
      ],
      "metadata": {
        "id": "KWQ2fO0tFHai"
      }
    },
    {
      "cell_type": "code",
      "source": [
        "import pandas as pd\n",
        "def notas_aprobados(notas):\n",
        "  notas = pd.Series(notas)\n",
        "  return notas[notas >=6].sort_values(ascending=False)\n",
        "notas = {\"Juan\":9, \"María\":6.5, \"Pedro\":4, \"Carmen\": 8.5, \"Luis\": 5}\n",
        "print(notas_aprobados(notas))"
      ],
      "metadata": {
        "colab": {
          "base_uri": "https://localhost:8080/"
        },
        "id": "W6UkVs4bFORm",
        "outputId": "b29fac5f-2daa-4e63-d084-2fb2b01b75bf"
      },
      "execution_count": 12,
      "outputs": [
        {
          "output_type": "stream",
          "name": "stdout",
          "text": [
            "Juan      9.0\n",
            "Carmen    8.5\n",
            "María     6.5\n",
            "dtype: float64\n"
          ]
        }
      ]
    },
    {
      "cell_type": "markdown",
      "source": [
        "Escribir programa que genere y muestre por pantalla un DataFrame con los datos de la tabla siguiente:"
      ],
      "metadata": {
        "id": "C795BmVmF-UZ"
      }
    },
    {
      "cell_type": "code",
      "source": [
        "import pandas as pd\n",
        "datos = {\"Mes\": [\"Enero\", \"Febrero\", \"Marzo\", \"Abril\"], \"Ventas\": [30500, 35600, 28300, 33900], \"Gastos\": [22000, 23400, 18100, 20700]}\n",
        "df = pd.DataFrame(datos)\n",
        "print(df)"
      ],
      "metadata": {
        "colab": {
          "base_uri": "https://localhost:8080/"
        },
        "id": "hKIyA3KOF9vP",
        "outputId": "f5a405cb-88b5-4772-9d9e-cafe0612a212"
      },
      "execution_count": 13,
      "outputs": [
        {
          "output_type": "stream",
          "name": "stdout",
          "text": [
            "       Mes  Ventas  Gastos\n",
            "0    Enero   30500   22000\n",
            "1  Febrero   35600   23400\n",
            "2    Marzo   28300   18100\n",
            "3    Abril   33900   20700\n"
          ]
        }
      ]
    },
    {
      "cell_type": "markdown",
      "source": [
        "Escribir programa que genere y muestre por pantalla un DataFrame con los datos de la tabla siguiente:"
      ],
      "metadata": {
        "id": "H2eO65ugGmTG"
      }
    },
    {
      "cell_type": "code",
      "source": [
        "import pandas as pd\n",
        "\n",
        "datos = {'Mes':['Enero', 'Febrero', 'Marzo', 'Abril'], 'Ventas':[30500, 35600, 28300, 33900], 'Gastos':[22000, 23400, 18100, 20700]}\n",
        "\n",
        "contabilidad = pd.DataFrame(datos)\n",
        "\n",
        "def balance(contabilidad, meses):\n",
        "    contabilidad['Balance'] = contabilidad.Ventas - contabilidad.Gastos\n",
        "    return contabilidad[contabilidad.Mes.isin(meses)].Balance.sum()\n",
        "\n",
        "print(balance(contabilidad, ['Enero']))"
      ],
      "metadata": {
        "colab": {
          "base_uri": "https://localhost:8080/"
        },
        "id": "vzMerWf0Gob5",
        "outputId": "48b6083e-5275-418e-c036-fd72e9dddf33"
      },
      "execution_count": 15,
      "outputs": [
        {
          "output_type": "stream",
          "name": "stdout",
          "text": [
            "8500\n"
          ]
        }
      ]
    },
    {
      "cell_type": "code",
      "source": [
        "import pandas as pd\n",
        "\n",
        "datos = {'Mes':['Enero', 'Febrero', 'Marzo', 'Abril'], 'Ventas':[30500, 35600, 28300, 33900], 'Gastos':[22000, 23400, 18100, 20700]}\n",
        "\n",
        "contabilidad = pd.DataFrame(datos)\n",
        "\n",
        "def balance(contabilidad, meses):\n",
        "    contabilidad['Balance'] = contabilidad.Ventas - contabilidad.Gastos\n",
        "    return contabilidad.set_index('Mes').loc[meses,'Balance'].sum()\n",
        "\n",
        "print(balance(contabilidad, ['Enero']))"
      ],
      "metadata": {
        "colab": {
          "base_uri": "https://localhost:8080/"
        },
        "id": "SsiA3B6vHktV",
        "outputId": "ee74c416-fbae-481a-bbb1-d8d4f88b98e3"
      },
      "execution_count": 17,
      "outputs": [
        {
          "output_type": "stream",
          "name": "stdout",
          "text": [
            "8500\n"
          ]
        }
      ]
    },
    {
      "cell_type": "markdown",
      "source": [
        "El fichero cotizacion.csv contiene las cotizaciones de las empresas del IBEX35 con las siguientes columnas: nombre (nombre de la empresa), Final (precio de la acción al cierre de bolsa), Máximo (precio máximo de la acción durante la jornada), Mínimo (precio mínimo de la acción durante la jornada), volumen (Volumen al cierre de bolsa), Efectivo (capitalización al cierre en miles de euros). Construir una función que construya un DataFrame a partir del un fichero con el formato anterior y devuelva otro DataFrame con el mínimo, el máximo y la media de dada columna."
      ],
      "metadata": {
        "id": "xe_uU17_H1-y"
      }
    },
    {
      "cell_type": "code",
      "source": [
        "import pandas as pd\n",
        "from google.colab import drive\n",
        "drive.mount('/content/drive')"
      ],
      "metadata": {
        "colab": {
          "base_uri": "https://localhost:8080/"
        },
        "id": "SD_xiABUH0tE",
        "outputId": "e7b574f1-513c-4559-e17e-818401b7f31f"
      },
      "execution_count": 19,
      "outputs": [
        {
          "output_type": "stream",
          "name": "stdout",
          "text": [
            "Mounted at /content/drive\n"
          ]
        }
      ]
    },
    {
      "cell_type": "code",
      "source": [
        "ruta = \"/content/drive/MyDrive/cotizacion.csv\""
      ],
      "metadata": {
        "id": "_ldD1pyyIRwJ"
      },
      "execution_count": 20,
      "outputs": []
    },
    {
      "cell_type": "code",
      "source": [
        "df = pd.read_csv(ruta, sep=\";\", decimal=\",\", thousands=\".\", index_col=0)\n",
        "def resumen(df):\n",
        "  return pd.DataFrame([df.min(), df.max(), df.mean()], index=[\"Min\", \"Max\", \"Media\"])\n",
        "print(resumen(df))"
      ],
      "metadata": {
        "colab": {
          "base_uri": "https://localhost:8080/"
        },
        "id": "BWdPniH7Ic-X",
        "outputId": "ef69181a-aa90-4a64-8bb4-ee8117c1118c"
      },
      "execution_count": 41,
      "outputs": [
        {
          "output_type": "stream",
          "name": "stdout",
          "text": [
            "              Final        Máximo        Mínimo       Volumen    Efectivo\n",
            "Min        1.016500      4.067500      1.016500  1.221000e+03    2343.090\n",
            "Max    19705.000000  19875.000000  19675.000000  3.612969e+07  145765.440\n",
            "Media   2796.768757   3170.113357   3136.510471  4.252279e+06   31767.778\n"
          ]
        }
      ]
    },
    {
      "cell_type": "code",
      "source": [],
      "metadata": {
        "id": "aiXHoDNUKGQm"
      },
      "execution_count": null,
      "outputs": []
    },
    {
      "cell_type": "markdown",
      "source": [],
      "metadata": {
        "id": "AHQ_RoAxKm7G"
      }
    }
  ]
}